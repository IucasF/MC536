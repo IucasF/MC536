{
 "cells": [
  {
   "cell_type": "code",
   "execution_count": 1,
   "metadata": {},
   "outputs": [],
   "source": [
    "%defaultDatasource jdbc:h2:mem:db"
   ]
  },
  {
   "cell_type": "code",
   "execution_count": 2,
   "metadata": {},
   "outputs": [],
   "source": [
    "DROP TABLE IF EXISTS Drug;\n",
    "DROP TABLE IF EXISTS Pathology;\n",
    "DROP TABLE IF EXISTS DrugUse;\n",
    "\n",
    "CREATE TABLE Drug (\n",
    "  code INT NOT NULL,\n",
    "  name VARCHAR(200) NOT NULL,\n",
    "  PRIMARY KEY(code)\n",
    ") AS SELECT\n",
    "    code,\n",
    "    name\n",
    "FROM CSVREAD('../../../data/faers-2017/drug.csv');\n",
    "\n",
    "CREATE TABLE Pathology (\n",
    "  code INT NOT NULL,\n",
    "  name VARCHAR(200) NOT NULL,\n",
    "  PRIMARY KEY(code)\n",
    ") AS SELECT\n",
    "    code,\n",
    "    name\n",
    "FROM CSVREAD('../../../data/faers-2017/pathology.csv');\n",
    "\n",
    "CREATE TABLE DrugUse (\n",
    "  idPerson INT NOT NULL,\n",
    "  codePathology INT NOT NULL,\n",
    "  codeDrug INT NOT NULL,\n",
    "  FOREIGN KEY(codePathology)\n",
    "    REFERENCES Pathology(code)\n",
    "      ON DELETE NO ACTION\n",
    "      ON UPDATE NO ACTION,\n",
    "  FOREIGN KEY(codeDrug)\n",
    "    REFERENCES Drug(code)\n",
    "      ON DELETE NO ACTION\n",
    "      ON UPDATE NO ACTION,\n",
    ") AS SELECT\n",
    "    idPerson,\n",
    "    codePathology,\n",
    "    codeDrug\n",
    "FROM CSVREAD('../../../data/faers-2017/drug-use.csv');\n",
    "\n",
    "CREATE TABLE SideEffect(\n",
    "  idPerson INT NOT NULL,\n",
    "  codePathology INT NOT NULL,\n",
    "  FOREIGN KEY(codePathology)\n",
    "    REFERENCES Pathology(code)\n",
    "      ON DELETE NO ACTION\n",
    "      ON UPDATE NO ACTION\n",
    ") AS SELECT idPerson, codePathology\n",
    "FROM CSVREAD('../../../data/faers-2017/sideeffect.csv');"
   ]
  },
  {
   "cell_type": "code",
   "execution_count": 43,
   "metadata": {},
   "outputs": [
    {
     "data": {
      "application/vnd.jupyter.widget-view+json": {
       "model_id": "dcea0489-40be-4717-97a5-505ad36a4c55",
       "version_major": 2,
       "version_minor": 0
      },
      "method": "display_data"
     },
     "metadata": {},
     "output_type": "display_data"
    },
    {
     "data": {
      "application/vnd.jupyter.widget-view+json": {
       "model_id": "674a2319-243c-4512-8878-9f67a8161317",
       "version_major": 2,
       "version_minor": 0
      },
      "method": "display_data"
     },
     "metadata": {},
     "output_type": "display_data"
    },
    {
     "data": {
      "application/vnd.jupyter.widget-view+json": {
       "model_id": "b2ec113e-cb81-4ab5-a930-44107f0d4827",
       "version_major": 2,
       "version_minor": 0
      },
      "method": "display_data"
     },
     "metadata": {},
     "output_type": "display_data"
    },
    {
     "data": {
      "application/vnd.jupyter.widget-view+json": {
       "model_id": "55232410-eecf-4e37-863b-f8c7d4169ff0",
       "version_major": 2,
       "version_minor": 0
      },
      "method": "display_data"
     },
     "metadata": {},
     "output_type": "display_data"
    }
   ],
   "source": [
    "SELECT * FROM Drug;\n",
    "SELECT * FROM Pathology;\n",
    "SELECT * FROM DrugUse;\n",
    "SELECT * FROM SideEffect;"
   ]
  },
  {
   "cell_type": "markdown",
   "metadata": {},
   "source": [
    "# FDA Adverse Event Reporting System (FAERS)\n",
    "\n",
    "[FDA Adverse Event Reporting System (FAERS)](https://open.fda.gov/data/faers/).\n",
    "\n",
    "Fonte de dados: https://www.fda.gov/drugs/fda-adverse-event-reporting-system-faers/fda-adverse-event-reporting-system-faers-latest-quarterly-data-files"
   ]
  },
  {
   "cell_type": "markdown",
   "metadata": {},
   "source": [
    "# Interação entre medicamentos\n",
    "Considere como uma interação toda vez que um medicamento A é tomado em conjunto com um medicamento B por uma pessoa. Crie uma consulta que retorne para cada par de medicamento A,B o número de interações, somente para aqueles medicamentos que são tomados em conjunto mais de 30 vezes (passaremos a chamar de **grupo mais 30**)."
   ]
  },
  {
   "cell_type": "code",
   "execution_count": 21,
   "metadata": {},
   "outputs": [
    {
     "ename": "org.h2.jdbc.JdbcSQLException",
     "evalue": " View \"DRUGINTERACTION\" not found; SQL statement",
     "output_type": "error",
     "text": "org.h2.jdbc.JdbcSQLException: View \"DRUGINTERACTION\" not found; SQL statement:\nDROP VIEW IF EXISTS DrugInteraction [90037-197]",
     "traceback": [
      "\u001b[1;31morg.h2.jdbc.JdbcSQLException: View \"DRUGINTERACTION\" not found; SQL statement:\u001b[0;0m",
      "\u001b[1;31mDROP VIEW IF EXISTS DrugInteraction [90037-197]\u001b[0;0m"
     ]
    }
   ],
   "source": [
    "DROP VIEW IF EXISTS DrugInteraction;\n",
    "DROP VIEW IF EXISTS DrugInteraction30;\n",
    "\n",
    "-- CREATE VIEW DrugInteraction AS\n",
    "-- SELECT DUA.codeDrug druga, DUB.codeDrug drugb, COUNT(*) weight\n",
    "-- FROM DrugUse DUA, DrugUse DUB\n",
    "-- WHERE DUA.IdPerson = DUB.IdPerson AND DUA.codeDrug < DUB.codeDrug\n",
    "-- GROUP BY DUA.codeDrug, DUB.codeDrug\n",
    "-- HAVING weight > 1;\n",
    "\n",
    "CREATE VIEW DrugInteraction AS\n",
    "SELECT DUA.codeDrug druga, DUB.codeDrug drugb\n",
    "FROM DrugUse DUA, DrugUse DUB\n",
    "WHERE DUA.IdPerson = DUB.IdPerson AND DUA.codeDrug < DUB.codeDrug;\n",
    "\n",
    "CREATE VIEW DrugInteraction30 AS\n",
    "SELECT druga, drugb, count(*) weight\n",
    "FROM DrugInteraction\n",
    "GROUP BY druga, drugb\n",
    "HAVING weight > 30;\n",
    "\n",
    "SELECT * FROM DrugInteraction30;"
   ]
  },
  {
   "cell_type": "markdown",
   "metadata": {},
   "source": [
    "## Tabela Resultante\n",
    "\n",
    "Se estiver demorando muito para gerar a tabela, você poderá usar a seguinte tabela resultante pronta. Essa tabela tem todas as interações, você ainda precisará filtrar o **grupo mais 30**."
   ]
  },
  {
   "cell_type": "code",
   "execution_count": 3,
   "metadata": {},
   "outputs": [],
   "source": [
    "CREATE TABLE DrugInteraction (\n",
    "  druga INT NOT NULL,\n",
    "  drugb INT NOT NULL,\n",
    "  weight INT NOT NULL,\n",
    "  PRIMARY KEY(druga, drugb)\n",
    ") AS SELECT\n",
    "    druga,\n",
    "    drugb,\n",
    "    weight\n",
    "FROM CSVREAD('../../../data/faers-2017/results/drug-interaction.csv');"
   ]
  },
  {
   "cell_type": "code",
   "execution_count": 4,
   "metadata": {},
   "outputs": [
    {
     "data": {
      "application/vnd.jupyter.widget-view+json": {
       "model_id": "7a6f9c08-51bb-4cf9-a935-305a539f197d",
       "version_major": 2,
       "version_minor": 0
      },
      "method": "display_data"
     },
     "metadata": {},
     "output_type": "display_data"
    }
   ],
   "source": [
    "CREATE VIEW DrugInteraction30 AS\n",
    "SELECT * FROM DrugInteraction DI\n",
    "WHERE DI.weight > 30;\n",
    "\n",
    "SELECT * FROM DrugInteraction30;"
   ]
  },
  {
   "cell_type": "markdown",
   "metadata": {},
   "source": [
    "# Suporte\n",
    "\n",
    "### Qual o suporte que cada uma das associações tem?\n",
    "\n",
    "Gere uma consulta que apresente o suporte do **grupo mais 30**. Ordene o resultado por ordem de suporte. \n",
    "\n",
    "Observação: Para que o resultado da divisão seja fracionária, converta o numerador em `DOUBLE` usando:\n",
    "~~~sql\n",
    "CAST(campo AS DOUBLE)\n",
    "~~~"
   ]
  },
  {
   "cell_type": "code",
   "execution_count": 6,
   "metadata": {},
   "outputs": [
    {
     "data": {
      "text/plain": [
       "9073"
      ]
     },
     "execution_count": 6,
     "metadata": {},
     "output_type": "execute_result"
    }
   ],
   "source": [
    "SELECT COUNT(*) FROM DrugInteraction;"
   ]
  },
  {
   "cell_type": "code",
   "execution_count": 7,
   "metadata": {},
   "outputs": [
    {
     "data": {
      "application/vnd.jupyter.widget-view+json": {
       "model_id": "386089b3-5454-421a-bdd1-a673ca9fa6b9",
       "version_major": 2,
       "version_minor": 0
      },
      "method": "display_data"
     },
     "metadata": {},
     "output_type": "display_data"
    }
   ],
   "source": [
    "SELECT DI.druga, DI.drugb, DI.weight, CAST(DI.weight AS DOUBLE) / 9073 Suporte\n",
    "       FROM DrugInteraction30 DI\n",
    "       ORDER BY Suporte;"
   ]
  },
  {
   "cell_type": "markdown",
   "metadata": {},
   "source": [
    "# Confiança\n",
    "\n",
    "### Qual a confiança que cada uma das associações tem?\n",
    "\n",
    "Gere uma consulta que apresente a confiança do **grupo mais 30**. Ordene o resultado por ordem de confiança."
   ]
  },
  {
   "cell_type": "code",
   "execution_count": 5,
   "metadata": {},
   "outputs": [
    {
     "data": {
      "application/vnd.jupyter.widget-view+json": {
       "model_id": "1a3d8b1d-de68-4950-be63-98cf9cedebba",
       "version_major": 2,
       "version_minor": 0
      },
      "method": "display_data"
     },
     "metadata": {},
     "output_type": "display_data"
    }
   ],
   "source": [
    "DROP VIEW IF EXISTS DrugaCount;\n",
    "\n",
    "CREATE VIEW DrugaCount AS\n",
    "SELECT DI.druga, count(*) CAnt\n",
    "FROM DrugInteraction DI, DrugInteraction30 DIT\n",
    "WHERE DI.druga = DIT.druga\n",
    "GROUP BY DI.druga;\n",
    "\n",
    "SELECT * FROM DrugaCount;"
   ]
  },
  {
   "cell_type": "code",
   "execution_count": 6,
   "metadata": {},
   "outputs": [
    {
     "data": {
      "application/vnd.jupyter.widget-view+json": {
       "model_id": "d9609dac-d8c3-476b-8f6a-eac60527673e",
       "version_major": 2,
       "version_minor": 0
      },
      "method": "display_data"
     },
     "metadata": {},
     "output_type": "display_data"
    }
   ],
   "source": [
    "DROP VIEW IF EXISTS Confianca;\n",
    "\n",
    "CREATE VIEW Confianca AS\n",
    "SELECT DIT.druga, DIT.drugb, CAST(DIT.weight AS DOUBLE) / DC.CAnt confianca\n",
    "FROM DrugInteraction30 DIT, DrugaCount DC\n",
    "WHERE DIT.druga = DC.druga\n",
    "ORDER BY confianca;\n",
    "\n",
    "SELECT * FROM Confianca;"
   ]
  },
  {
   "cell_type": "markdown",
   "metadata": {},
   "source": [
    "# Efeito Colateral\n",
    "\n",
    "Para cada medicamento, qual o percentual do medicamento A que tem efeito colateral junto com o medicamento B, quando comparado com seu uso sem o medicamento B."
   ]
  },
  {
   "cell_type": "code",
   "execution_count": 11,
   "metadata": {},
   "outputs": [
    {
     "data": {
      "application/vnd.jupyter.widget-view+json": {
       "model_id": "a69188c4-9f49-4813-ad51-0690a8345d71",
       "version_major": 2,
       "version_minor": 0
      },
      "method": "display_data"
     },
     "metadata": {},
     "output_type": "display_data"
    }
   ],
   "source": [
    "DROP VIEW IF EXISTS EfeitoCom2;\n",
    "\n",
    "CREATE VIEW EfeitoCom2 AS\n",
    "SELECT DI.druga, DI.drugb, DUA.codePathology, count(*) nos2\n",
    "FROM DrugInteraction30 DI, DrugUse DUA, DrugUse DUB\n",
    "WHERE DI.druga = DUA.codeDrug AND DI.drugb = DUB.codeDrug AND DUA.codePathology = DUB.codePathology\n",
    "GROUP BY DI.druga, DI.drugb, DUA.codePathology;\n",
    "\n",
    "SELECT * FROM EfeitoCom2;"
   ]
  },
  {
   "cell_type": "code",
   "execution_count": 14,
   "metadata": {},
   "outputs": [
    {
     "data": {
      "application/vnd.jupyter.widget-view+json": {
       "model_id": "9cb3f570-50a8-48d8-a508-dd36ac465914",
       "version_major": 2,
       "version_minor": 0
      },
      "method": "display_data"
     },
     "metadata": {},
     "output_type": "display_data"
    }
   ],
   "source": [
    "DROP VIEW IF EXISTS EfeitoEm1;\n",
    "\n",
    "CREATE VIEW EfeitoEm1 AS\n",
    "SELECT DI.druga, DUA.codePathology, count(*) em1\n",
    "FROM DrugInteraction30 DI, DrugUse DUA\n",
    "WHERE DI.druga = DUA.codeDrug\n",
    "GROUP BY DI.druga, DUA.codePathology;\n",
    "\n",
    "SELECT * FROM EfeitoEm1;"
   ]
  },
  {
   "cell_type": "code",
   "execution_count": 3,
   "metadata": {},
   "outputs": [
    {
     "ename": "java.lang.RuntimeException",
     "evalue": " No datasource",
     "output_type": "error",
     "text": "java.lang.RuntimeException: No datasource",
     "traceback": [
      "\u001b[1;31mjava.lang.RuntimeException: No datasource\u001b[0;0m"
     ]
    }
   ],
   "source": [
    "DROP VIEW IF EXISTS EfeitoColateral;\n",
    "\n",
    "CREATE VIEW EfeitoColateral AS\n",
    "SELECT E2.druga, E2.drugb, E2.codePathology, CAST(E2.nos2 AS DOUBLE) / E1.em1 EfeitoColateral\n",
    "FROM EfeitoCom2 E2, EfeitoEm1 E1\n",
    "WHERE E2.druga = E1.druga AND E2.codePathology = E1.codePathology\n",
    "ORDER BY EfeitoColateral;\n",
    "\n",
    "SELECT * FROM EfeitoColateral;"
   ]
  },
  {
   "cell_type": "code",
   "execution_count": null,
   "metadata": {},
   "outputs": [],
   "source": []
  }
 ],
 "metadata": {
  "kernelspec": {
   "display_name": "SQL",
   "language": "SQL",
   "name": "sql"
  },
  "language_info": {
   "codemirror_mode": "sql",
   "file_extension": ".sql",
   "mimetype": "",
   "name": "SQL",
   "nbconverter_exporter": "",
   "version": ""
  },
  "toc": {
   "base_numbering": 1,
   "nav_menu": {},
   "number_sections": false,
   "sideBar": false,
   "skip_h1_title": false,
   "title_cell": "Table of Contents",
   "title_sidebar": "Contents",
   "toc_cell": false,
   "toc_position": {},
   "toc_section_display": false,
   "toc_window_display": false
  }
 },
 "nbformat": 4,
 "nbformat_minor": 4
}
