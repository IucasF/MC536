{
 "cells": [
  {
   "cell_type": "code",
   "execution_count": 1,
   "metadata": {},
   "outputs": [],
   "source": [
    "%defaultDatasource jdbc:h2:mem:db"
   ]
  },
  {
   "cell_type": "markdown",
   "metadata": {},
   "source": [
    "# Diagrama ER\n",
    "\n",
    "Analise os arquivos CSV que estão no diretórios /data/nhanes e escreva um esquema relacional\n",
    "referente às tabelas, suas chaves primárias e estrangeiras (não é SQL ainda).\n",
    "Coloque a chave primária com dois underlines antes e dois depois:\n",
    "\n",
    "\\__teste\\__"
   ]
  },
  {
   "cell_type": "code",
   "execution_count": null,
   "metadata": {},
   "outputs": [],
   "source": [
    "-- Projete reversamente um modelo ER das tabelas\n",
    "Medicamentos(__Codigo__, NomeMedicamento) <br>\n",
    "Pessoas(__Id__, Genero, Idade) <br>\n",
    "UsoMedicamento(__IdPessoa__, __CodMedicamento__, Diasuso) <br>\n",
    "    - IdPessoa -> CHE Pessoas <br>\n",
    "    - CodMedicamento CHE Medicamentos"
   ]
  },
  {
   "cell_type": "code",
   "execution_count": 3,
   "metadata": {},
   "outputs": [],
   "source": [
    "-- Escreva instruções SQL para montar as tabelas conforme definido no esquema relacional\n",
    "-- Realize a importação de CSV\n",
    "-- PS: não defina chave primária para a tabela de uso de medicamento\n",
    "-- Crie três tabelas uma para cada CSV\n",
    "-- PS: não defina chave primária para a tabela de uso de medicamento\n",
    "CREATE TABLE Pessoas (\n",
    "  Id VARCHAR(5) NOT NULL,\n",
    "  Genero INTEGER,\n",
    "  Idade INTEGER,\n",
    "  PRIMARY KEY(Id)\n",
    ") AS SELECT\n",
    "    Id,\n",
    "    Genero,\n",
    "    Idade\n",
    "FROM CSVREAD('../../../data/nhanes/demographic-person.csv');\n",
    "\n",
    "CREATE TABLE Medicamentos (\n",
    "  Codigo VARCHAR(6) NOT NULL,\n",
    "  NomeMedicamento VARCHAR(80) NOT NULL,\n",
    "  PRIMARY KEY(Codigo)\n",
    ") AS SELECT\n",
    "    Codigo,\n",
    "    NomeMedicamento\n",
    "FROM CSVREAD('../../../data/nhanes/medications-drug.csv');"
   ]
  },
  {
   "cell_type": "code",
   "execution_count": 4,
   "metadata": {},
   "outputs": [],
   "source": [
    "CREATE TABLE UsoMedicamento (\n",
    "  IdPessoa VARCHAR(5) NOT NULL,\n",
    "  CodMedicamento VARCHAR(6) NOT NULL,\n",
    "  DiasUso INTEGER,\n",
    "  FOREIGN KEY(IdPessoa)\n",
    "    REFERENCES Pessoas(Id)\n",
    "      ON DELETE NO ACTION\n",
    "      ON UPDATE NO ACTION,\n",
    "  FOREIGN KEY(CodMedicamento)\n",
    "    REFERENCES Medicamentos(Codigo)\n",
    "      ON DELETE NO ACTION\n",
    "      ON UPDATE NO ACTION\n",
    ") AS SELECT\n",
    "    IdPessoa,\n",
    "    CodMedicamento,\n",
    "    DiasUso\n",
    "FROM CSVREAD('../../../data/nhanes/medications-use.csv');"
   ]
  },
  {
   "cell_type": "code",
   "execution_count": 5,
   "metadata": {},
   "outputs": [
    {
     "data": {
      "application/vnd.jupyter.widget-view+json": {
       "model_id": "aab5588f-16fd-4003-b861-30e7f8bc6927",
       "version_major": 2,
       "version_minor": 0
      },
      "method": "display_data"
     },
     "metadata": {},
     "output_type": "display_data"
    }
   ],
   "source": [
    "-- Liste todos os medicamentos\n",
    "SELECT med.NomeMedicamento FROM Medicamentos med;"
   ]
  },
  {
   "cell_type": "code",
   "execution_count": 6,
   "metadata": {},
   "outputs": [
    {
     "data": {
      "application/vnd.jupyter.widget-view+json": {
       "model_id": "7bf596c7-d677-42c8-ad86-8e9c10cb3da5",
       "version_major": 2,
       "version_minor": 0
      },
      "method": "display_data"
     },
     "metadata": {},
     "output_type": "display_data"
    }
   ],
   "source": [
    "-- Liste todas as pessoas\n",
    "SELECT Pessoas.Id FROM Pessoas;"
   ]
  },
  {
   "cell_type": "code",
   "execution_count": 7,
   "metadata": {},
   "outputs": [
    {
     "data": {
      "application/vnd.jupyter.widget-view+json": {
       "model_id": "f7b1b108-9f83-4028-a9d8-c612c7aa0270",
       "version_major": 2,
       "version_minor": 0
      },
      "method": "display_data"
     },
     "metadata": {},
     "output_type": "display_data"
    }
   ],
   "source": [
    "-- Liste todos os usos de medicamento\n",
    "SELECT udm.IdPessoa, udm.CodMedicamento FROM UsoMedicamento udm"
   ]
  },
  {
   "cell_type": "code",
   "execution_count": 8,
   "metadata": {},
   "outputs": [
    {
     "data": {
      "application/vnd.jupyter.widget-view+json": {
       "model_id": "f8bdaf40-0db1-44d2-b74f-0904c0f28f56",
       "version_major": 2,
       "version_minor": 0
      },
      "method": "display_data"
     },
     "metadata": {},
     "output_type": "display_data"
    }
   ],
   "source": [
    "-- Liste pessoas com idade acima de 60\n",
    "SELECT p.Id FROM Pessoas p WHERE p.Idade > 60;"
   ]
  },
  {
   "cell_type": "code",
   "execution_count": 11,
   "metadata": {},
   "outputs": [
    {
     "data": {
      "application/vnd.jupyter.widget-view+json": {
       "model_id": "8567873c-b21e-4ad0-9c28-959d99edc21e",
       "version_major": 2,
       "version_minor": 0
      },
      "method": "display_data"
     },
     "metadata": {},
     "output_type": "display_data"
    }
   ],
   "source": [
    "-- Liste as idades das pessoas cadastradas (sem repetições)\n",
    "SELECT DISTINCT p.Idade FROM Pessoas p;"
   ]
  },
  {
   "cell_type": "code",
   "execution_count": 12,
   "metadata": {},
   "outputs": [
    {
     "data": {
      "application/vnd.jupyter.widget-view+json": {
       "model_id": "3513de8b-3f45-4261-b981-f4fb219488db",
       "version_major": 2,
       "version_minor": 0
      },
      "method": "display_data"
     },
     "metadata": {},
     "output_type": "display_data"
    }
   ],
   "source": [
    "-- Liste código das pessoas, idade, código dos medicamentos que usaram e dias de uso\n",
    "SELECT u.IdPessoa, p.Idade, u.CodMedicamento, u.DiasUso FROM Pessoas p, UsoMedicamento u WHERE u.IdPessoa = p.Id;"
   ]
  },
  {
   "cell_type": "code",
   "execution_count": 13,
   "metadata": {},
   "outputs": [
    {
     "data": {
      "application/vnd.jupyter.widget-view+json": {
       "model_id": "bd0f844b-a3db-4bab-aec4-c1ca6f0b71d0",
       "version_major": 2,
       "version_minor": 0
      },
      "method": "display_data"
     },
     "metadata": {},
     "output_type": "display_data"
    }
   ],
   "source": [
    "-- Liste código das Pessoas, idade, nome dos medicamentos que usaram e quantos dias de uso\n",
    "select u.IdPessoa, p.Idade, m.NomeMedicamento, u.DiasUso FROM Pessoas p, UsoMedicamento u, Medicamentos m \n",
    "    WHERE u.IdPessoa = p.Id AND m.Codigo = u.CodMedicamento;"
   ]
  },
  {
   "cell_type": "code",
   "execution_count": 15,
   "metadata": {},
   "outputs": [
    {
     "data": {
      "application/vnd.jupyter.widget-view+json": {
       "model_id": "6d246b62-e294-436b-9e3c-083aa5878710",
       "version_major": 2,
       "version_minor": 0
      },
      "method": "display_data"
     },
     "metadata": {},
     "output_type": "display_data"
    }
   ],
   "source": [
    "-- Liste nome dos medicamentos que foram usados por pessoas (sem repetições)\n",
    "SELECT DISTINCT m.NomeMedicamento FROM Medicamentos m, UsoMedicamento u WHERE m.Codigo = u.CodMedicamento;"
   ]
  },
  {
   "cell_type": "code",
   "execution_count": 12,
   "metadata": {},
   "outputs": [],
   "source": [
    "-- Liste nome dos medicamentos usados por mais de 2.000 dias (sem repetições)\n",
    "SELECT DISTINCT m.NomeMedicamento FROM Medicamentos m, UsoMedicamento u WHERE m.Codigo = u.CodMedicamento;"
   ]
  }
 ],
 "metadata": {
  "kernelspec": {
   "display_name": "SQL",
   "language": "SQL",
   "name": "sql"
  },
  "language_info": {
   "codemirror_mode": "sql",
   "file_extension": ".sql",
   "mimetype": "",
   "name": "SQL",
   "nbconverter_exporter": "",
   "version": ""
  }
 },
 "nbformat": 4,
 "nbformat_minor": 4
}
